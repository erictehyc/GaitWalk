{
 "cells": [
  {
   "cell_type": "markdown",
   "metadata": {},
   "source": [
    "# Run Prediction"
   ]
  },
  {
   "cell_type": "markdown",
   "metadata": {},
   "source": [
    "### 1. Take in input video (Configure here)"
   ]
  },
  {
   "cell_type": "code",
   "execution_count": 9,
   "metadata": {},
   "outputs": [],
   "source": [
    "#key in input filename here\n",
    "input_vid_fn = 'multi2.mp4'\n",
    "#set to true if videos are taken from mobile phone\n",
    "mobile = True\n",
    "#set to true if using custom metrics to evaluate model (Default is true as it uses get_f1 in utils)\n",
    "custom_metric = True\n",
    "#set name of model to be used (Set this only if a custom model was created, default model is seq30_128dense_lost0.58_f1-0.7_100x700.h5)\n",
    "model_name = \"seq30_128dense_lost0.58_f1-0.7_100x700.h5\"\n",
    "#set this to be same with the architecture of custom model used\n",
    "IMG_HEIGHT, IMG_WIDTH = 700,100 #this is the size of images taken in for \"seq30_128dense_lost0.58_f1-0.7_100x700.h5\"\n",
    "\n"
   ]
  },
  {
   "cell_type": "code",
   "execution_count": 3,
   "metadata": {},
   "outputs": [],
   "source": [
    "from pathlib import Path\n",
    "import os,sys, tensorflow as tf, numpy as np\n",
    "from os.path import exists, join, basename\n",
    "import subprocess\n",
    "BASE_DIR = os.getcwd()\n",
    "called_dir = BASE_DIR\n",
    "while os.path.basename(BASE_DIR) != \"fyp_team4c\":\n",
    "    path = Path(BASE_DIR)\n",
    "    BASE_DIR = str(path.parent)\n",
    "    if BASE_DIR == '/':\n",
    "        print(\"Please call this script in the fyp_team4c directory\")\n",
    "        break\n",
    "\n",
    "PREDICTION_DIR = os.path.join(BASE_DIR, 'prediction')\n",
    "sys.path.append(BASE_DIR)\n",
    "from utils import *\n",
    "from prepare_img_data import load_predict_data_vid, normalize_img_data\n",
    "gpu = tf.config.experimental.list_physical_devices('GPU')\n",
    "tf.config.experimental.set_memory_growth(gpu[0], True)"
   ]
  },
  {
   "cell_type": "markdown",
   "metadata": {},
   "source": [
    "### 2. Run DeepSORT on input video"
   ]
  },
  {
   "cell_type": "code",
   "execution_count": 4,
   "metadata": {},
   "outputs": [
    {
     "name": "stdout",
     "output_type": "stream",
     "text": [
      "/home/student/jiawen/project/fyp_team4c/deep_sort_pytorch\n",
      "/home/student/jiawen/project/fyp_team4c/prediction/output/final_vid\n",
      "/home/student/jiawen/project/fyp_team4c/prediction/output/bbox_output\n",
      "/home/student/jiawen/project/fyp_team4c/prediction/input_vid\n"
     ]
    }
   ],
   "source": [
    "output_dir = os.path.join(PREDICTION_DIR, 'output')\n",
    "input_vid_p = os.path.join(PREDICTION_DIR, f'input_vid/{input_vid_fn}')\n",
    "\n",
    "run_deepsort(output_dir, input_vid_p, mobile, called_dir, BASE_DIR)\n"
   ]
  },
  {
   "cell_type": "markdown",
   "metadata": {},
   "source": [
    "### 3. Extract Frames to readable input for model."
   ]
  },
  {
   "cell_type": "code",
   "execution_count": 5,
   "metadata": {},
   "outputs": [
    {
     "name": "stdout",
     "output_type": "stream",
     "text": [
      "Extracting:  multi2.mp4\n",
      "Extracting  /home/student/jiawen/project/fyp_team4c/prediction/input_vid/multi2.mp4 to  /home/student/jiawen/project/fyp_team4c/prediction/output/frames\n"
     ]
    }
   ],
   "source": [
    "#Extract frames to frames folder\n",
    "frames_folder = os.path.join(output_dir, 'frames')\n",
    "if not os.path.exists(frames_folder):\n",
    "  # get_ipython().system('cd OUTPUT_DIR && mkdir frames')\n",
    "  os.makedirs(frames_folder)\n",
    "print('Extracting: ',input_vid_fn)\n",
    "extract_frames(input_vid_p, input_vid_fn, frames_folder)"
   ]
  },
  {
   "cell_type": "code",
   "execution_count": 6,
   "metadata": {},
   "outputs": [
    {
     "name": "stdout",
     "output_type": "stream",
     "text": [
      "Extracting  multi2.mp4\n"
     ]
    }
   ],
   "source": [
    "#Extract bbox of the frames\n",
    "bbox_dir = os.path.join(output_dir, 'bbox_output')\n",
    "print(\"Extracting \", input_vid_fn)\n",
    "pickle_path = f'{bbox_dir}/{input_vid_fn[:-4]}_bbox.pkl'\n",
    "extract_bbox(input_vid_fn[:-4], pickle_path, frames_folder)\n"
   ]
  },
  {
   "cell_type": "markdown",
   "metadata": {},
   "source": [
    "### 4. Read in the trained model"
   ]
  },
  {
   "cell_type": "code",
   "execution_count": 10,
   "metadata": {},
   "outputs": [],
   "source": [
    "model_fp = os.path.join(PREDICTION_DIR, os.path.join(\"model\", model_name))\n",
    "\n",
    "if os.path.exists(model_fp):\n",
    "    if custom_metric:\n",
    "        model = tf.keras.models.load_model(\n",
    "        model_fp, custom_objects={\"get_f1\":get_f1}, compile=True\n",
    "    )\n",
    "    else:\n",
    "        model = tf.keras.models.load_model(\n",
    "        model_fp, custom_objects=None, compile=True\n",
    "    )\n",
    "else:\n",
    "    print(\"Missing model for prediction!\")\n",
    "    raise Error(\"Missing model\")"
   ]
  },
  {
   "cell_type": "markdown",
   "metadata": {},
   "source": [
    "### 5. Make prediction"
   ]
  },
  {
   "cell_type": "code",
   "execution_count": 14,
   "metadata": {},
   "outputs": [
    {
     "name": "stdout",
     "output_type": "stream",
     "text": [
      "301 85\n",
      "302 72\n",
      "(2, 30, 700, 100, 1)\n",
      "Predicted prob: [0.30185026]\tname: multi2-id_01\n",
      "Predicted prob: [0.48002073]\tname: multi2-id_02\n",
      "Results\n",
      "[{'ID': 'multi2-id_01', 'filepath': '/home/student/jiawen/project/fyp_team4c/prediction/output/frames/multi2/id_01/frame074_id01.jpg', 'mood': 'Sad', 'conf': '0.30185026'}, {'ID': 'multi2-id_02', 'filepath': '/home/student/jiawen/project/fyp_team4c/prediction/output/frames/multi2/id_02/frame060_id02.jpg', 'mood': 'Sad', 'conf': '0.48002073'}]\n"
     ]
    }
   ],
   "source": [
    "vid_frames_folder = os.path.join(frames_folder, input_vid_fn[:-4])\n",
    "my_x, names, images= load_predict_data_vid(vid_frames_folder, input_vid_fn[:-4])\n",
    "my_x = normalize_img_data(my_x, IMG_HEIGHT, IMG_WIDTH)\n",
    "my_x = np.array(my_x)\n",
    "print(my_x.shape)\n",
    "res = []\n",
    "for i in range(len(my_x)):\n",
    "    val = model.predict(np.array([my_x[i,]]))[0]\n",
    "    # y_pred.append(0 if val <= 0.5 else 1)\n",
    "    print(f\"Predicted prob: {val}\\tname: {names[i]}\")\n",
    "    res.append({\n",
    "    \"ID\": names[i],\n",
    "    \"filepath\": images[i],\n",
    "    \"mood\": (\"Depressed\" if val < 0.5 else \"Healthy\"),\n",
    "    \"conf\": str(val[0])\n",
    "    })\n",
    "print(\"Results\")\n",
    "print(res)"
   ]
  },
  {
   "cell_type": "code",
   "execution_count": null,
   "metadata": {},
   "outputs": [],
   "source": []
  }
 ],
 "metadata": {
  "kernelspec": {
   "display_name": "Python 3",
   "language": "python",
   "name": "python3"
  },
  "language_info": {
   "codemirror_mode": {
    "name": "ipython",
    "version": 3
   },
   "file_extension": ".py",
   "mimetype": "text/x-python",
   "name": "python",
   "nbconvert_exporter": "python",
   "pygments_lexer": "ipython3",
   "version": "3.6.9"
  }
 },
 "nbformat": 4,
 "nbformat_minor": 4
}
